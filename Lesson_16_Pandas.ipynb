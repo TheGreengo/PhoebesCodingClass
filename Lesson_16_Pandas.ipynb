{
 "cells": [
  {
   "attachments": {},
   "cell_type": "markdown",
   "metadata": {},
   "source": [
    "# Pandas: Not the plural form of panda (even though it is)"
   ]
  },
  {
   "attachments": {},
   "cell_type": "markdown",
   "metadata": {},
   "source": [
    "Pandas is one of the \"Big Three\" python packages for data analysis and scripting: Numpy, Pandas, and Matplotlib. These are open-source libraries that are typically imported in any and all data analysis scripts as follows:"
   ]
  },
  {
   "cell_type": "code",
   "execution_count": 41,
   "metadata": {},
   "outputs": [],
   "source": [
    "import numpy as np\n",
    "import pandas as pd\n",
    "import matplotlib.pyplot as plt"
   ]
  },
  {
   "attachments": {},
   "cell_type": "markdown",
   "metadata": {},
   "source": [
    "## Backstory, Backstory, Backstory\n",
    "The reason why this is always the case, and the reason why python packages in general are so popular, is a wee bit of a long story:\n",
    "\n",
    "As you are aware (or at least have been told), your computer only understands raw binary, using certain pre-defined binary instructions. In order to transform source code (which is in all actuality just a specific type of text document), into the appropriate binary machine code, you have to either run an interpretor to run your program (like python does), or run a compiler to create a binary program file from your code (which is what C++ and friends do). \n",
    "\n",
    "Python uses an interpretor that is primarily written in C and C++. Because of this, people can write C and C++ code and compile that to be imported and used in python files. This is helpful because for many applications, C and C++ are as much as 40 times faster than python. \n",
    "\n",
    "Because of this, certain things that people do a lot, which take a lot of time are often outsourced to imported C and C++ code. Three such things are: complicated mathimatical data (numpy), handling and manipulating tabular data and files (pandas), and creating images and graphs (matplotlib)."
   ]
  },
  {
   "attachments": {},
   "cell_type": "markdown",
   "metadata": {},
   "source": [
    "## Pandas (again, but for real this time)\n",
    "\n",
    "Most times, when working with data, the easiest way to store the data is in a table. For example, if we were working with a database for animals in a zoo, we might have a table like the following:\n",
    "\n",
    "|name|id|species|feeding schedule|weight (lbs)|height (in)|age (years)|\n",
    "|:---:|:---:|:---:|:---:|:---:|:---:|:---:|\n",
    "|Echo|001|Dog|2|40|24|2.5|\n",
    "|Evie|002|?|1|14|10|8|\n",
    "|Simon|003|Horse|3|930|60|5|\n",
    "|Lucifer|004|Cat|1|12|12|13|\n",
    "\n",
    "But representing this natively in python code would be confusing. We could either keep track if it as a list of lists"
   ]
  },
  {
   "cell_type": "code",
   "execution_count": 42,
   "metadata": {},
   "outputs": [],
   "source": [
    "animals = [\n",
    "    [\"Echo\",1,\"Dog\",2,40,24,2.5],\n",
    "    [\"Evie\",2,\"?\",1,14,10,8],\n",
    "    [\"Simon\",3,\"Horse\",3,930,60,5],\n",
    "    [\"Lucifer\",4,\"Cat\",1,12,12,13]\n",
    "]"
   ]
  },
  {
   "attachments": {},
   "cell_type": "markdown",
   "metadata": {},
   "source": [
    "But then accessing something would be weird since we only have number indexes. If we wanted to get Evie's feeding schedule, we would have to write the following garbage:"
   ]
  },
  {
   "cell_type": "code",
   "execution_count": 43,
   "metadata": {},
   "outputs": [
    {
     "name": "stdout",
     "output_type": "stream",
     "text": [
      "1\n"
     ]
    }
   ],
   "source": [
    "row_number = 0\n",
    "\n",
    "# loop through until we find the right row\n",
    "while animals[row_number][0] != \"Evie\":\n",
    "    row_number += 1\n",
    "\n",
    "# and here we would have to know that column 3 corresponds to the feeding schedule\n",
    "print(animals[row_number][3])\n",
    " "
   ]
  },
  {
   "attachments": {},
   "cell_type": "markdown",
   "metadata": {},
   "source": [
    "So then we could use a list of dictionaries. But then, we would have a lot of wasted memory because dictionaries are actually a little inefficient. It is also still pretty confusing and repetitive to initialize."
   ]
  },
  {
   "cell_type": "code",
   "execution_count": 44,
   "metadata": {},
   "outputs": [],
   "source": [
    "animals = [\n",
    "    {\"Name\": \"Echo\",\"ID\": 1,\"Species\":\"Dog\",\"Feeding Schedule\": 2,\"Weight\": 40,\"Height\": 24,\"Age\": 2.5},\n",
    "    # etc\n",
    "]"
   ]
  },
  {
   "attachments": {},
   "cell_type": "markdown",
   "metadata": {},
   "source": [
    "The best option would be to have a list of classes, but this only works if know exactly what datatypes we are expecting in advance. This doesn't work if we want to just crack open a random table or spreadsheet and go through the data."
   ]
  },
  {
   "cell_type": "code",
   "execution_count": 45,
   "metadata": {},
   "outputs": [],
   "source": [
    "class Animal:\n",
    "    def __init__(self,name,id,species,sched,weight,height,age) -> None:\n",
    "        self.name = name\n",
    "        self.id = id\n",
    "        # etc.\n",
    "\n",
    "db = [\n",
    "    Animal(\"Echo\",1,\"Dog\",2,40,24,2.5),\n",
    "    # etc.\n",
    "]"
   ]
  },
  {
   "attachments": {},
   "cell_type": "markdown",
   "metadata": {},
   "source": [
    "## This is why we _*do have*_ nice things\n",
    "\n",
    "Pandas handles all of these complicated nasty things behind the scenes. It makes it so we can (\\**coughs*\\*) easily create tables, access data within them, and manipulate them. This does mean, however, we do have to learn the ways that Pandas wants us to ask for things, and sometimes it is a little bit particular about things. But now that we have set the scene way too much, lets talk about using Pandas."
   ]
  },
  {
   "attachments": {},
   "cell_type": "markdown",
   "metadata": {},
   "source": [
    "## Creating Pandas Dataframes\n",
    "\n",
    "There are two *relatively* straightforward ways to create a pandas dataframe in code."
   ]
  },
  {
   "cell_type": "code",
   "execution_count": 46,
   "metadata": {},
   "outputs": [],
   "source": [
    "# Number One: lists and setting column names\n",
    "\n",
    "# We first define a list of lists, where each list is one row in our table\n",
    "animals = [\n",
    "    [\"Echo\",1,\"Dog\",2,40,24,2.5],\n",
    "    [\"Evie\",2,\"?\",1,14,10,8],\n",
    "    [\"Simon\",3,\"Horse\",3,930,60,5],\n",
    "    [\"Lucifer\",4,\"Cat\",1,12,12,13]\n",
    "]\n",
    "\n",
    "# We then initialize our dataframe by calling pandas's DataFrame initializer function (it's a class)\n",
    "# and passing in our list of lists. We then give the initializer a list of \n",
    "animal_df = pd.DataFrame(animals, columns=[\"Name\",\"ID\", \"Species\",\"Feeding Schedule\",\"Weight\",\"Height\",\"Age\"])"
   ]
  },
  {
   "cell_type": "code",
   "execution_count": 47,
   "metadata": {},
   "outputs": [
    {
     "name": "stdout",
     "output_type": "stream",
     "text": [
      "      Name  ID Species  Feeding Schedule  Weight  Height   Age\n",
      "0     Echo   1     Dog                 2      40      24   2.5\n",
      "1     Evie   2       ?                 1      14      10   8.0\n",
      "2    Simon   3   Horse                 3     930      60   5.0\n",
      "3  Lucifer   4     Cat                 1      12      12  13.0\n"
     ]
    }
   ],
   "source": [
    "print(animal_df)"
   ]
  },
  {
   "cell_type": "code",
   "execution_count": 48,
   "metadata": {},
   "outputs": [],
   "source": [
    "# Number Two: Dictionaries\n",
    "\n",
    "# Or you can give the initializer a dictionary, where the keys are\n",
    "# the column names, and the values are the row entries for each column\n",
    "# this unfortunately means we have to be careful about keeping the \n",
    "# list entries in order\n",
    "animals = {\n",
    "    \"Name\": [\"Echo\",\"Evie\",\"Simon\",\"Lucifer\"],\n",
    "    \"ID\": [1,2,3,4], \n",
    "    \"Species\": [\"Dog\",\"?\",\"Horse\",\"Cat\"],\n",
    "    \"Age\" : [2.5,8,5,13]\n",
    "}\n",
    "\n",
    "df = pd.DataFrame(animals)"
   ]
  },
  {
   "cell_type": "code",
   "execution_count": 49,
   "metadata": {},
   "outputs": [
    {
     "name": "stdout",
     "output_type": "stream",
     "text": [
      "      Name  ID Species   Age\n",
      "0     Echo   1     Dog   2.5\n",
      "1     Evie   2       ?   8.0\n",
      "2    Simon   3   Horse   5.0\n",
      "3  Lucifer   4     Cat  13.0\n"
     ]
    }
   ],
   "source": [
    "print(df)"
   ]
  },
  {
   "attachments": {},
   "cell_type": "markdown",
   "metadata": {},
   "source": [
    "In reality though, these are pretty much never used. Almost always, we just want to create a pandas dataframe from a .csv file of the data. For this example, we'll use the file `Heart_Disease.csv`. Clicking on the file in VSCode, you can see the actual raw form of a naked csv file. CSV stands for \"Comma Separated Values\". It's usually represented as a table (like in software such as excel), but in actuality its just a bunch of lines of text, where each entry is separated by a comma."
   ]
  },
  {
   "cell_type": "code",
   "execution_count": 77,
   "metadata": {},
   "outputs": [
    {
     "name": "stdout",
     "output_type": "stream",
     "text": [
      "     Age  Sex  Chest pain type   BP  Cholesterol  FBS over 120  EKG results  \\\n",
      "0     70    1                4  130          322             0            2   \n",
      "1     80    0                3  115          564             0            2   \n",
      "2     55    1                2  124          261             0            0   \n",
      "3     65    1                4  128          263             0            0   \n",
      "4     45    0                2  120          269             0            2   \n",
      "..   ...  ...              ...  ...          ...           ...          ...   \n",
      "265   52    1                3  172          199             1            0   \n",
      "266   44    1                2  120          263             0            0   \n",
      "267   56    0                2  140          294             0            2   \n",
      "268   57    1                4  140          192             0            0   \n",
      "269   67    1                4  160          286             0            2   \n",
      "\n",
      "     Max HR  Exercise angina  ST depression  Slope of ST  \\\n",
      "0       109                0            2.4            2   \n",
      "1       160                0            1.6            2   \n",
      "2       141                0            0.3            1   \n",
      "3       105                1            0.2            2   \n",
      "4       121                1            0.2            1   \n",
      "..      ...              ...            ...          ...   \n",
      "265     162                0            0.5            1   \n",
      "266     173                0            0.0            1   \n",
      "267     153                0            1.3            2   \n",
      "268     148                0            0.4            2   \n",
      "269     108                1            1.5            2   \n",
      "\n",
      "     Number of vessels fluro  Thallium Heart Disease  \n",
      "0                          3         3      Presence  \n",
      "1                          0         7       Absence  \n",
      "2                          0         7      Presence  \n",
      "3                          1         7       Absence  \n",
      "4                          1         3       Absence  \n",
      "..                       ...       ...           ...  \n",
      "265                        0         7       Absence  \n",
      "266                        0         7       Absence  \n",
      "267                        0         3       Absence  \n",
      "268                        0         6       Absence  \n",
      "269                        3         3      Presence  \n",
      "\n",
      "[270 rows x 14 columns]\n"
     ]
    }
   ],
   "source": [
    "df = pd.read_csv(\"Heart_Disease.csv\")\n",
    "print(df)"
   ]
  },
  {
   "attachments": {},
   "cell_type": "markdown",
   "metadata": {},
   "source": [
    "## Accessing Data\n",
    "\n",
    "Often times with pandas, we want to look at certain pieces of our data. Often times this is either on cell, row, or column."
   ]
  },
  {
   "cell_type": "code",
   "execution_count": 51,
   "metadata": {},
   "outputs": [
    {
     "name": "stdout",
     "output_type": "stream",
     "text": [
      "0      70\n",
      "1      80\n",
      "2      55\n",
      "3      65\n",
      "4      45\n",
      "       ..\n",
      "265    52\n",
      "266    44\n",
      "267    56\n",
      "268    57\n",
      "269    67\n",
      "Name: Age, Length: 270, dtype: int64\n"
     ]
    }
   ],
   "source": [
    "# A column can be accessed by just using the column name in brackets\n",
    "print(df[\"Age\"])"
   ]
  },
  {
   "cell_type": "code",
   "execution_count": 52,
   "metadata": {},
   "outputs": [
    {
     "name": "stdout",
     "output_type": "stream",
     "text": [
      "44\n"
     ]
    }
   ],
   "source": [
    "# you can access a single entry by specifying the row number from within that column\n",
    "print(df[\"Age\"][12])"
   ]
  },
  {
   "attachments": {},
   "cell_type": "markdown",
   "metadata": {},
   "source": [
    "### loc and iloc\n",
    "If you want to access something other than a column or single entry however, your bestfriends are two built in pandas properties called `loc` and `iloc`. `loc` is short for \"location\" and `iloc` stands for \"integer location\". They accept a pair of arguments in brackets that specify what row(s) and column(s) you want."
   ]
  },
  {
   "cell_type": "code",
   "execution_count": 53,
   "metadata": {},
   "outputs": [
    {
     "name": "stdout",
     "output_type": "stream",
     "text": [
      "This prints the first entry in the \"Age\" column\n",
      "70\n"
     ]
    }
   ],
   "source": [
    "# loc\n",
    "# for loc, the first argument is the name(s) of the column(s) you want, or optionally \":\" if you want all columns\n",
    "# the second argument is a number or \":\" corresponding to what row(s) you'd like\n",
    "print(\"This prints the first entry in the \\\"Age\\\" column\")\n",
    "print(df.loc[0,\"Age\"])"
   ]
  },
  {
   "cell_type": "code",
   "execution_count": 54,
   "metadata": {},
   "outputs": [
    {
     "name": "stdout",
     "output_type": "stream",
     "text": [
      "This prints the whole \"Age\" column\n",
      "0      70\n",
      "1      80\n",
      "2      55\n",
      "3      65\n",
      "4      45\n",
      "       ..\n",
      "265    52\n",
      "266    44\n",
      "267    56\n",
      "268    57\n",
      "269    67\n",
      "Name: Age, Length: 270, dtype: int64\n"
     ]
    }
   ],
   "source": [
    "print(\"This prints the whole \\\"Age\\\" column\")\n",
    "print(df.loc[:, \"Age\"])"
   ]
  },
  {
   "cell_type": "code",
   "execution_count": 55,
   "metadata": {},
   "outputs": [
    {
     "name": "stdout",
     "output_type": "stream",
     "text": [
      "This prints the first entry in all columns\n",
      "Age                              70\n",
      "Sex                               1\n",
      "Chest pain type                   4\n",
      "BP                              130\n",
      "Cholesterol                     322\n",
      "FBS over 120                      0\n",
      "EKG results                       2\n",
      "Max HR                          109\n",
      "Exercise angina                   0\n",
      "ST depression                   2.4\n",
      "Slope of ST                       2\n",
      "Number of vessels fluro           3\n",
      "Thallium                          3\n",
      "Heart Disease              Presence\n",
      "Name: 0, dtype: object\n"
     ]
    }
   ],
   "source": [
    "print(\"This prints the first entry in all columns\")\n",
    "print(df.loc[0, :])"
   ]
  },
  {
   "attachments": {},
   "cell_type": "markdown",
   "metadata": {},
   "source": [
    "You can even pass in a list of columns or rows"
   ]
  },
  {
   "cell_type": "code",
   "execution_count": 56,
   "metadata": {},
   "outputs": [
    {
     "name": "stdout",
     "output_type": "stream",
     "text": [
      "This prints the 3rd entry in the \"Age\" and \"BP\" columns\n",
      "Age     55\n",
      "BP     124\n",
      "Name: 2, dtype: object\n"
     ]
    }
   ],
   "source": [
    "print(\"This prints the 3rd entry in the \\\"Age\\\" and \\\"BP\\\" columns\")\n",
    "print(df.loc[2, [\"Age\", \"BP\"]])"
   ]
  },
  {
   "cell_type": "code",
   "execution_count": 57,
   "metadata": {},
   "outputs": [
    {
     "name": "stdout",
     "output_type": "stream",
     "text": [
      "This prints the 1st and 3rd entry in the \"Age\" and \"BP\" columns\n",
      "   Age   BP\n",
      "0   70  130\n",
      "2   55  124\n"
     ]
    }
   ],
   "source": [
    "print(\"This prints the 1st and 3rd entry in the \\\"Age\\\" and \\\"BP\\\" columns\")\n",
    "print(df.loc[[0,2], [\"Age\", \"BP\"]])"
   ]
  },
  {
   "attachments": {},
   "cell_type": "markdown",
   "metadata": {},
   "source": [
    "# iloc\n",
    "`iloc` is the same except it excepts integer arguments for both the row and column."
   ]
  },
  {
   "cell_type": "code",
   "execution_count": 58,
   "metadata": {},
   "outputs": [
    {
     "name": "stdout",
     "output_type": "stream",
     "text": [
      "70\n"
     ]
    }
   ],
   "source": [
    "# this prints the entry in the first row and column\n",
    "print(df.iloc[0,0])"
   ]
  },
  {
   "cell_type": "code",
   "execution_count": 59,
   "metadata": {},
   "outputs": [
    {
     "name": "stdout",
     "output_type": "stream",
     "text": [
      "Age                              70\n",
      "Sex                               1\n",
      "Chest pain type                   4\n",
      "BP                              130\n",
      "Cholesterol                     322\n",
      "FBS over 120                      0\n",
      "EKG results                       2\n",
      "Max HR                          109\n",
      "Exercise angina                   0\n",
      "ST depression                   2.4\n",
      "Slope of ST                       2\n",
      "Number of vessels fluro           3\n",
      "Thallium                          3\n",
      "Heart Disease              Presence\n",
      "Name: 0, dtype: object\n"
     ]
    }
   ],
   "source": [
    "# this prints the whole first row\n",
    "print(df.iloc[0,:])"
   ]
  },
  {
   "cell_type": "code",
   "execution_count": 60,
   "metadata": {},
   "outputs": [
    {
     "name": "stdout",
     "output_type": "stream",
     "text": [
      "0      70\n",
      "1      80\n",
      "2      55\n",
      "3      65\n",
      "4      45\n",
      "       ..\n",
      "265    52\n",
      "266    44\n",
      "267    56\n",
      "268    57\n",
      "269    67\n",
      "Name: Age, Length: 270, dtype: int64\n"
     ]
    }
   ],
   "source": [
    "# this prints the whole first column\n",
    "print(df.iloc[:,0])"
   ]
  },
  {
   "cell_type": "code",
   "execution_count": 61,
   "metadata": {},
   "outputs": [
    {
     "name": "stdout",
     "output_type": "stream",
     "text": [
      "    Cholesterol  FBS over 120\n",
      "0           322             0\n",
      "10          234             0\n"
     ]
    }
   ],
   "source": [
    "# And of course you can print multiple things\n",
    "print(df.iloc[[0,10],[4,5]])"
   ]
  },
  {
   "attachments": {},
   "cell_type": "markdown",
   "metadata": {},
   "source": [
    "## Adding Data to a Dataframe\n",
    "One fun thing about pandas is that we can add data to it. If you recall our animals dataframe"
   ]
  },
  {
   "cell_type": "code",
   "execution_count": 62,
   "metadata": {},
   "outputs": [
    {
     "name": "stdout",
     "output_type": "stream",
     "text": [
      "      Name  ID Species  Feeding Schedule  Weight  Height   Age\n",
      "0     Echo   1     Dog                 2      40      24   2.5\n",
      "1     Evie   2       ?                 1      14      10   8.0\n",
      "2    Simon   3   Horse                 3     930      60   5.0\n",
      "3  Lucifer   4     Cat                 1      12      12  13.0\n"
     ]
    }
   ],
   "source": [
    "print(animal_df)"
   ]
  },
  {
   "attachments": {},
   "cell_type": "markdown",
   "metadata": {},
   "source": [
    "We could actually add a new row to it just by assigning the name of the new column to a new value"
   ]
  },
  {
   "cell_type": "code",
   "execution_count": 64,
   "metadata": {},
   "outputs": [
    {
     "name": "stdout",
     "output_type": "stream",
     "text": [
      "      Name  ID Species  Feeding Schedule  Weight  Height   Age  Needs Kisses\n",
      "0     Echo   1     Dog                 2      40      24   2.5          True\n",
      "1     Evie   2       ?                 1      14      10   8.0          True\n",
      "2    Simon   3   Horse                 3     930      60   5.0          True\n",
      "3  Lucifer   4     Cat                 1      12      12  13.0          True\n"
     ]
    }
   ],
   "source": [
    "animal_df[\"Needs Kisses\"] = True\n",
    "print(animal_df)"
   ]
  },
  {
   "attachments": {},
   "cell_type": "markdown",
   "metadata": {},
   "source": [
    "One super nifty thing about pandas is you can even use some simple math in connection to the existing columns in this assignment. So for example, if we wanted to create a new column detailing how much each meal should weigh, and we knew that each animal should eat 10% of its bodyweight per meal, we could do the following"
   ]
  },
  {
   "cell_type": "code",
   "execution_count": 65,
   "metadata": {},
   "outputs": [
    {
     "name": "stdout",
     "output_type": "stream",
     "text": [
      "      Name  ID Species  Feeding Schedule  Weight  Height   Age  Needs Kisses  \\\n",
      "0     Echo   1     Dog                 2      40      24   2.5          True   \n",
      "1     Evie   2       ?                 1      14      10   8.0          True   \n",
      "2    Simon   3   Horse                 3     930      60   5.0          True   \n",
      "3  Lucifer   4     Cat                 1      12      12  13.0          True   \n",
      "\n",
      "   Meal Weight  \n",
      "0          4.0  \n",
      "1          1.4  \n",
      "2         93.0  \n",
      "3          1.2  \n"
     ]
    }
   ],
   "source": [
    "animal_df[\"Meal Weight\"] = animal_df[\"Weight\"] / 10\n",
    "print(animal_df)"
   ]
  },
  {
   "attachments": {},
   "cell_type": "markdown",
   "metadata": {},
   "source": [
    "We can even use some simple boolean logic here"
   ]
  },
  {
   "cell_type": "code",
   "execution_count": 66,
   "metadata": {},
   "outputs": [
    {
     "name": "stdout",
     "output_type": "stream",
     "text": [
      "      Name  ID Species  Feeding Schedule  Weight  Height   Age  Needs Kisses  \\\n",
      "0     Echo   1     Dog                 2      40      24   2.5          True   \n",
      "1     Evie   2       ?                 1      14      10   8.0          True   \n",
      "2    Simon   3   Horse                 3     930      60   5.0          True   \n",
      "3  Lucifer   4     Cat                 1      12      12  13.0          True   \n",
      "\n",
      "   Meal Weight  Is Big  \n",
      "0          4.0   False  \n",
      "1          1.4   False  \n",
      "2         93.0    True  \n",
      "3          1.2   False  \n"
     ]
    }
   ],
   "source": [
    "animal_df[\"Is Big\"] = animal_df[\"Height\"] > 48\n",
    "print(animal_df)"
   ]
  },
  {
   "attachments": {},
   "cell_type": "markdown",
   "metadata": {},
   "source": [
    "These features are actually super powerful and helpful. But they are limited. If we want to do really complicated stuff, we can create a new column using the pandas `apply` function. We simply define a function that will take a row of our dataframe as an argument, and returns whatever we want to be in our new column. We then set our new function equal to apply, with the name of our custom function passed in."
   ]
  },
  {
   "cell_type": "code",
   "execution_count": 70,
   "metadata": {},
   "outputs": [
    {
     "name": "stdout",
     "output_type": "stream",
     "text": [
      "      Name  ID Species  Feeding Schedule  Weight  Height   Age  Needs Kisses  \\\n",
      "0     Echo   1     Dog                 2      40      24   2.5          True   \n",
      "1     Evie   2       ?                 1      14      10   8.0          True   \n",
      "2    Simon   3   Horse                 3     930      60   5.0          True   \n",
      "3  Lucifer   4     Cat                 1      12      12  13.0          True   \n",
      "\n",
      "   Meal Weight  Is Big         Meal Details  \n",
      "0          4.0   False    4.0 lbs of kibble  \n",
      "1          1.4   False    1.4 lbs of kibble  \n",
      "2         93.0    True     93.0 lbs of oats  \n",
      "3          1.2   False  1.2 lbs of idk fish  \n"
     ]
    }
   ],
   "source": [
    "def get_meal_details(row):\n",
    "    food = \"\"\n",
    "    if row[\"Species\"] == \"Dog\" or row[\"Species\"] == \"?\":\n",
    "        food = \"kibble\"\n",
    "    elif row[\"Species\"] == \"Cat\":\n",
    "        food = \"idk fish\"\n",
    "    else:\n",
    "        food = \"oats\"\n",
    "\n",
    "    return f\"{row['Meal Weight']} lbs of {food}\"\n",
    "\n",
    "animal_df[\"Meal Details\"] = animal_df.apply(get_meal_details, axis=1)\n",
    "print(animal_df)"
   ]
  },
  {
   "attachments": {},
   "cell_type": "markdown",
   "metadata": {},
   "source": [
    "### Brief Note\n",
    "In a lot of pandas functions, you will see `axis=0` or `axis=1`. This is because many pandas functions can work on rows or columns. `axis=0` just means this function will work on rows and `axis=1` just means the function will work on columns. That's why in our above function call we used `axis=1`, because we wanted to add a column."
   ]
  },
  {
   "attachments": {},
   "cell_type": "markdown",
   "metadata": {},
   "source": [
    "## Removing Data from a Dataframe\n",
    "\n",
    "Our heart disease dataframe has a lot of information in it. We may want to pair that down a bit."
   ]
  },
  {
   "cell_type": "code",
   "execution_count": 71,
   "metadata": {},
   "outputs": [
    {
     "name": "stdout",
     "output_type": "stream",
     "text": [
      "     Age  Sex  Chest pain type   BP  Cholesterol  FBS over 120  EKG results  \\\n",
      "0     70    1                4  130          322             0            2   \n",
      "1     80    0                3  115          564             0            2   \n",
      "2     55    1                2  124          261             0            0   \n",
      "3     65    1                4  128          263             0            0   \n",
      "4     45    0                2  120          269             0            2   \n",
      "..   ...  ...              ...  ...          ...           ...          ...   \n",
      "265   52    1                3  172          199             1            0   \n",
      "266   44    1                2  120          263             0            0   \n",
      "267   56    0                2  140          294             0            2   \n",
      "268   57    1                4  140          192             0            0   \n",
      "269   67    1                4  160          286             0            2   \n",
      "\n",
      "     Max HR  Exercise angina  ST depression  Slope of ST  \\\n",
      "0       109                0            2.4            2   \n",
      "1       160                0            1.6            2   \n",
      "2       141                0            0.3            1   \n",
      "3       105                1            0.2            2   \n",
      "4       121                1            0.2            1   \n",
      "..      ...              ...            ...          ...   \n",
      "265     162                0            0.5            1   \n",
      "266     173                0            0.0            1   \n",
      "267     153                0            1.3            2   \n",
      "268     148                0            0.4            2   \n",
      "269     108                1            1.5            2   \n",
      "\n",
      "     Number of vessels fluro  Thallium Heart Disease  \n",
      "0                          3         3      Presence  \n",
      "1                          0         7       Absence  \n",
      "2                          0         7      Presence  \n",
      "3                          1         7       Absence  \n",
      "4                          1         3       Absence  \n",
      "..                       ...       ...           ...  \n",
      "265                        0         7       Absence  \n",
      "266                        0         7       Absence  \n",
      "267                        0         3       Absence  \n",
      "268                        0         6       Absence  \n",
      "269                        3         3      Presence  \n",
      "\n",
      "[270 rows x 14 columns]\n"
     ]
    }
   ],
   "source": [
    "print(df)"
   ]
  },
  {
   "attachments": {},
   "cell_type": "markdown",
   "metadata": {},
   "source": [
    "lets start with ST depression. We don't need more depression in our life. To get rid of a column, we just call `df.drop()`. We also specify three things:\n",
    "- which axis (0 for row, 1 for column)\n",
    "- the name or index of the row or column we'd like to drop\n",
    "- `inplace` if this is set to `False` the function returns a copy of the dataframe without the dropped column or row, but the original dataframe will remain unchanged. If we set `inplace = True`, then the original dataframe will actually be updated."
   ]
  },
  {
   "cell_type": "code",
   "execution_count": 78,
   "metadata": {},
   "outputs": [
    {
     "name": "stdout",
     "output_type": "stream",
     "text": [
      "Age                              70\n",
      "Sex                               1\n",
      "Chest pain type                   4\n",
      "BP                              130\n",
      "Cholesterol                     322\n",
      "FBS over 120                      0\n",
      "EKG results                       2\n",
      "Max HR                          109\n",
      "Exercise angina                   0\n",
      "Slope of ST                       2\n",
      "Number of vessels fluro           3\n",
      "Thallium                          3\n",
      "Heart Disease              Presence\n",
      "Name: 0, dtype: object\n"
     ]
    }
   ],
   "source": [
    "df.drop(\"ST depression\", axis=1, inplace=True)\n",
    "print(df.loc[0,:])"
   ]
  },
  {
   "cell_type": "code",
   "execution_count": 79,
   "metadata": {},
   "outputs": [
    {
     "name": "stdout",
     "output_type": "stream",
     "text": [
      "Age                      70\n",
      "Sex                       1\n",
      "Chest pain type           4\n",
      "BP                      130\n",
      "Cholesterol             322\n",
      "FBS over 120              0\n",
      "Max HR                  109\n",
      "Exercise angina           0\n",
      "Thallium                  3\n",
      "Heart Disease      Presence\n",
      "Name: 0, dtype: object\n"
     ]
    }
   ],
   "source": [
    "# We can even drop multiple\n",
    "df.drop([\"EKG results\",\"Number of vessels fluro\",\"Slope of ST\"], axis=1, inplace=True)\n",
    "print(df.loc[0,:])"
   ]
  },
  {
   "cell_type": "code",
   "execution_count": 80,
   "metadata": {},
   "outputs": [
    {
     "name": "stdout",
     "output_type": "stream",
     "text": [
      "     Age  Sex  Chest pain type   BP  Cholesterol  FBS over 120  Max HR  \\\n",
      "0     70    1                4  130          322             0     109   \n",
      "1     80    0                3  115          564             0     160   \n",
      "3     65    1                4  128          263             0     105   \n",
      "4     45    0                2  120          269             0     121   \n",
      "5     30    1                4  120          177             0     140   \n",
      "..   ...  ...              ...  ...          ...           ...     ...   \n",
      "265   52    1                3  172          199             1     162   \n",
      "266   44    1                2  120          263             0     173   \n",
      "267   56    0                2  140          294             0     153   \n",
      "268   57    1                4  140          192             0     148   \n",
      "269   67    1                4  160          286             0     108   \n",
      "\n",
      "     Exercise angina  Thallium Heart Disease  \n",
      "0                  0         3      Presence  \n",
      "1                  0         7       Absence  \n",
      "3                  1         7       Absence  \n",
      "4                  1         3       Absence  \n",
      "5                  0         7       Absence  \n",
      "..               ...       ...           ...  \n",
      "265                0         7       Absence  \n",
      "266                0         7       Absence  \n",
      "267                0         3       Absence  \n",
      "268                0         6       Absence  \n",
      "269                1         3      Presence  \n",
      "\n",
      "[269 rows x 10 columns]\n"
     ]
    }
   ],
   "source": [
    "# And with rows \n",
    "df.drop(2,axis=0,inplace=True)\n",
    "print(df)"
   ]
  },
  {
   "attachments": {},
   "cell_type": "markdown",
   "metadata": {},
   "source": [
    "## Looping through a Dataframe\n",
    "There are technically multiple different ways to loop through the rows in a pandas dataframe (something which you often want to be able to do). There is one main one that I've seen most often, and that is to use the `iterrows()` function. This is used in conjunction with a for loop like so:"
   ]
  },
  {
   "cell_type": "code",
   "execution_count": 83,
   "metadata": {},
   "outputs": [
    {
     "name": "stdout",
     "output_type": "stream",
     "text": [
      "Index:  0\n",
      "Name: Echo Age: 2.5\n",
      "\n",
      "Index:  1\n",
      "Name: Evie Age: 8.0\n",
      "\n",
      "Index:  2\n",
      "Name: Simon Age: 5.0\n",
      "\n",
      "Index:  3\n",
      "Name: Lucifer Age: 13.0\n",
      "\n"
     ]
    }
   ],
   "source": [
    "for index, row in animal_df.iterrows():\n",
    "    # here index will be the row ID (usually the same as the row number)\n",
    "    print(\"Index: \",index)\n",
    "    # and the row will be a single row from the dataframe. Here you can access any\n",
    "    # column entry for that row the same way you would access any column in a dataframe\n",
    "    print(\"Name:\", row[\"Name\"], \"Age:\", row[\"Age\"])\n",
    "    print()"
   ]
  },
  {
   "attachments": {},
   "cell_type": "markdown",
   "metadata": {},
   "source": [
    "## Saving a Dataframe as a File\n",
    "Once you're done, often times we'lll want to save the data we've created as a .csv file so that we can use it later. Pandas has a nifty function to do that."
   ]
  },
  {
   "cell_type": "code",
   "execution_count": 85,
   "metadata": {},
   "outputs": [],
   "source": [
    "animal_df.to_csv(\"animals.csv\")"
   ]
  },
  {
   "attachments": {},
   "cell_type": "markdown",
   "metadata": {},
   "source": [
    "One thing to note here, is if you look at that .csv file, it's added an extra first entry in each column. Pandas assigns each row a row ID automatically. This is actually what has been referenced when we've been looking at row number.\n",
    "\n",
    "When saving a dataframe as a .csv, we can tell it not to save the automagical pandas row ID numbers by setting `index=False`. Trying it now, we can see that our file no longer includes that first column."
   ]
  },
  {
   "cell_type": "code",
   "execution_count": null,
   "metadata": {},
   "outputs": [],
   "source": [
    "animal_df.to_csv(\"animals.csv\", index=False)"
   ]
  },
  {
   "attachments": {},
   "cell_type": "markdown",
   "metadata": {},
   "source": [
    "When we want to load our data back, we also have the option to tell it which column to use for these secret Pandas IDs by setting the `index_col`. For example, in our `animal_df` dataframe, we have a column named \"ID\". So we can tell pandas to us \"ID\" as our IDs."
   ]
  },
  {
   "cell_type": "code",
   "execution_count": 86,
   "metadata": {},
   "outputs": [
    {
     "name": "stdout",
     "output_type": "stream",
     "text": [
      "      Name  ID Species  Feeding Schedule  Weight  Height   Age  Needs Kisses  \\\n",
      "0     Echo   1     Dog                 2      40      24   2.5          True   \n",
      "1     Evie   2       ?                 1      14      10   8.0          True   \n",
      "2    Simon   3   Horse                 3     930      60   5.0          True   \n",
      "3  Lucifer   4     Cat                 1      12      12  13.0          True   \n",
      "\n",
      "   Meal Weight  Is Big         Meal Details  \n",
      "0          4.0   False    4.0 lbs of kibble  \n",
      "1          1.4   False    1.4 lbs of kibble  \n",
      "2         93.0    True     93.0 lbs of oats  \n",
      "3          1.2   False  1.2 lbs of idk fish  \n"
     ]
    }
   ],
   "source": [
    "print(animal_df)"
   ]
  },
  {
   "cell_type": "code",
   "execution_count": 88,
   "metadata": {},
   "outputs": [
    {
     "name": "stdout",
     "output_type": "stream",
     "text": [
      "       Name Species  Feeding Schedule  Weight  Height   Age  Needs Kisses  \\\n",
      "ID                                                                          \n",
      "1      Echo     Dog                 2      40      24   2.5          True   \n",
      "2      Evie       ?                 1      14      10   8.0          True   \n",
      "3     Simon   Horse                 3     930      60   5.0          True   \n",
      "4   Lucifer     Cat                 1      12      12  13.0          True   \n",
      "\n",
      "    Meal Weight  Is Big         Meal Details  \n",
      "ID                                            \n",
      "1           4.0   False    4.0 lbs of kibble  \n",
      "2           1.4   False    1.4 lbs of kibble  \n",
      "3          93.0    True     93.0 lbs of oats  \n",
      "4           1.2   False  1.2 lbs of idk fish  \n"
     ]
    }
   ],
   "source": [
    "animal_df = pd.read_csv(\"animals.csv\", index_col=\"ID\")\n",
    "print(animal_df)"
   ]
  },
  {
   "attachments": {},
   "cell_type": "markdown",
   "metadata": {},
   "source": [
    "# Epilogue\n",
    "\n",
    "This lesson really only scratches the surface of what pandas can do, but there's really too much to cover. Just remember as always that google is your friend. If there's ever anything you want to do with a pandas dataframe, jjust google it and there's probably a nifty built in way to do so."
   ]
  }
 ],
 "metadata": {
  "kernelspec": {
   "display_name": "Python 3",
   "language": "python",
   "name": "python3"
  },
  "language_info": {
   "codemirror_mode": {
    "name": "ipython",
    "version": 3
   },
   "file_extension": ".py",
   "mimetype": "text/x-python",
   "name": "python",
   "nbconvert_exporter": "python",
   "pygments_lexer": "ipython3",
   "version": "3.11.5"
  },
  "orig_nbformat": 4
 },
 "nbformat": 4,
 "nbformat_minor": 2
}
