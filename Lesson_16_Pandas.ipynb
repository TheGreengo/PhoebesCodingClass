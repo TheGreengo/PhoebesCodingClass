{
 "cells": [
  {
   "attachments": {},
   "cell_type": "markdown",
   "metadata": {},
   "source": [
    "# Pandas: Not the plural form of panda (even though it is)"
   ]
  },
  {
   "attachments": {},
   "cell_type": "markdown",
   "metadata": {},
   "source": [
    "Pandas is one of the \"Big Three\" python packages for data analysis and scripting: Numpy, Pandas, and Matplotlib. These are open-source libraries that are typically imported in any and all data analysis scripts as follows:"
   ]
  },
  {
   "cell_type": "code",
   "execution_count": null,
   "metadata": {},
   "outputs": [],
   "source": [
    "import numpy as np\n",
    "import pandas as pd\n",
    "import matplotlib.pyplot as plt"
   ]
  },
  {
   "attachments": {},
   "cell_type": "markdown",
   "metadata": {},
   "source": [
    "## Backstory, Backstory, Backstory\n",
    "The reason why this is always the case, and the reason why python packages in general are so popular, is a wee bit of a long story:\n",
    "\n",
    "As you are aware (or at least have been told), your computer only understands raw binary, using certain pre-defined binary instructions. In order to transform source code (which is in all actuality just a specific type of text document), into the appropriate binary machine code, you have to either run an interpretor to run your program (like python does), or run a compiler to create a binary program file from your code (which is what C++ and friends do). \n",
    "\n",
    "Python uses an interpretor that is primarily written in C and C++. Because of this, people can write C and C++ code and compile that to be imported and used in python files. This is helpful because for many applications, C and C++ are as much as 40 times faster than python. \n",
    "\n",
    "Because of this, certain things that people do a lot, which take a lot of time are often outsourced to imported C and C++ code. Three such things are: complicated mathimatical data (numpy), handling and manipulating tabular data and files (pandas), and creating images and graphs (matplotlib)."
   ]
  },
  {
   "attachments": {},
   "cell_type": "markdown",
   "metadata": {},
   "source": [
    "## Pandas (again, but for real this time)\n",
    "\n",
    "Most times, when working with data, the easiest way to store the data is in a table. For example, if we were working with a database for animals in a zoo, we might have a table like the following:\n",
    "\n",
    "|name|id|species|feeding schedule|weight (lbs)|height (in)|age (years)|\n",
    "|:---:|:---:|:---:|:---:|:---:|:---:|:---:|\n",
    "|Echo|001|Dog|2|40|24|2.5|\n",
    "|Evie|002|?|1|14|10|8|\n",
    "|Simon|003|Horse|3|930|60|5|\n",
    "|Lucifer|004|Cat|1|12|12|13|\n",
    "\n",
    "But representing this natively in python code would be confusing. We could either keep track if it as a list of lists"
   ]
  },
  {
   "cell_type": "code",
   "execution_count": null,
   "metadata": {},
   "outputs": [],
   "source": [
    "animals = [\n",
    "    [\"Echo\",1,\"Dog\",2,40,24,2.5],\n",
    "    [\"Evie\",2,\"?\",1,14,10,8],\n",
    "    [\"Simon\",3,\"Horse\",3,930,60,5],\n",
    "    [\"Lucifer\",4,\"Cat\",1,12,12,13]\n",
    "]"
   ]
  },
  {
   "attachments": {},
   "cell_type": "markdown",
   "metadata": {},
   "source": [
    "But then accessing something would be weird since we only have number indexes. If we wanted to get Evie's feeding schedule, we would have to write the following garbage:"
   ]
  },
  {
   "cell_type": "code",
   "execution_count": null,
   "metadata": {},
   "outputs": [],
   "source": [
    "row_number = 0\n",
    "\n",
    "# loop through until we find the right row\n",
    "while animals[row_number][0] != \"Evie\":\n",
    "    row_number += 1\n",
    "\n",
    "# and here we would have to know that column 3 corresponds to the feeding schedule\n",
    "print(animals[row_number][3])\n",
    " "
   ]
  },
  {
   "attachments": {},
   "cell_type": "markdown",
   "metadata": {},
   "source": [
    "So then we could use a list of dictionaries. But then, we would have a lot of wasted memory because dictionaries are actually a little inefficient. It is also still pretty confusing and repetitive to initialize."
   ]
  },
  {
   "cell_type": "code",
   "execution_count": null,
   "metadata": {},
   "outputs": [],
   "source": [
    "animals = [\n",
    "    {\"Name\": \"Echo\",\"ID\": 1,\"Species\":\"Dog\",\"Feeding Schedule\": 2,\"Weight\": 40,\"Height\": 24,\"Age\": 2.5},\n",
    "    # etc\n",
    "]"
   ]
  },
  {
   "attachments": {},
   "cell_type": "markdown",
   "metadata": {},
   "source": [
    "The best option would be to have a list of classes, but this only works if know exactly what datatypes we are expecting in advance. This doesn't work if we want to just crack open a random table or spreadsheet and go through the data."
   ]
  },
  {
   "cell_type": "code",
   "execution_count": null,
   "metadata": {},
   "outputs": [],
   "source": [
    "class Animal:\n",
    "    def __init__(self,name,id,species,sched,weight,height,age) -> None:\n",
    "        self.name = name\n",
    "        self.id = id\n",
    "        # etc.\n",
    "\n",
    "db = [\n",
    "    Animal(\"Echo\",1,\"Dog\",2,40,24,2.5),\n",
    "    # etc.\n",
    "]"
   ]
  },
  {
   "attachments": {},
   "cell_type": "markdown",
   "metadata": {},
   "source": [
    "## This is why we _*do have*_ nice things\n",
    "\n",
    "Pandas handles all of these complicated nasty things behind the scenes. It makes it so we can (\\**coughs*\\*) easily create tables, access data within them, and manipulate them. This does mean, however, we do have to learn the ways that Pandas wants us to ask for things, and sometimes it is a little bit particular about things. But now that we have set the scene way too much, lets talk about using Pandas."
   ]
  },
  {
   "attachments": {},
   "cell_type": "markdown",
   "metadata": {},
   "source": [
    "## Creating Pandas Dataframes\n",
    "\n",
    "There are two *relatively* straightforward ways to create a pandas dataframe in code."
   ]
  },
  {
   "cell_type": "code",
   "execution_count": null,
   "metadata": {},
   "outputs": [],
   "source": [
    "# Number One: lists and setting column names\n",
    "\n",
    "# We first define a list of lists, where each list is one row in our table\n",
    "animals = [\n",
    "    [\"Echo\",1,\"Dog\",2,40,24,2.5],\n",
    "    [\"Evie\",2,\"?\",1,14,10,8],\n",
    "    [\"Simon\",3,\"Horse\",3,930,60,5],\n",
    "    [\"Lucifer\",4,\"Cat\",1,12,12,13]\n",
    "]\n",
    "\n",
    "# We then initialize our dataframe by calling pandas's DataFrame initializer function (it's a class)\n",
    "# and passing in our list of lists. We then give the initializer a list of \n",
    "df = pd.DataFrame(db, columns=[\"Name\",\"ID\", \"Species\",\"Feeding Schedule\",\"Weight\",\"Height\",\"Age\"])"
   ]
  },
  {
   "cell_type": "code",
   "execution_count": null,
   "metadata": {},
   "outputs": [],
   "source": [
    "print(df)"
   ]
  },
  {
   "cell_type": "code",
   "execution_count": null,
   "metadata": {},
   "outputs": [],
   "source": [
    "# Number Two: Dictionaries\n",
    "\n",
    "# Or you can give the initializer a dictionary, where the keys are\n",
    "# the column names, and the values are the row entries for each column\n",
    "# this unfortunately means we have to be careful about keeping the \n",
    "# list entries in order\n",
    "animals = {\n",
    "    \"Name\": [\"Echo\",\"Evie\",\"Simon\",\"Lucifer\"],\n",
    "    \"ID\": [1,2,3,4], \n",
    "    \"Species\": [\"Dog\",\"?\",\"Horse\",\"Cat\"],\n",
    "    \"Age\" : [2.5,8,5,13]\n",
    "}"
   ]
  },
  {
   "cell_type": "code",
   "execution_count": null,
   "metadata": {},
   "outputs": [],
   "source": [
    "print(df)"
   ]
  },
  {
   "attachments": {},
   "cell_type": "markdown",
   "metadata": {},
   "source": [
    "In reality though, these are pretty much never used. Almost always, we just want to create a pandas dataframe from a .csv file of the data. For this example, we'll use the file `Heart_Disease.csv`. Clicking on the file in VSCode, you can see the actual raw form of a naked csv file. CSV stands for \"Comma Separated Values\". It's usually represented as a table (like in software such as excel), but in actuality its just a bunch of lines of text, where each entry is separated by a comma."
   ]
  },
  {
   "cell_type": "code",
   "execution_count": null,
   "metadata": {},
   "outputs": [],
   "source": [
    "df = pd.read_csv(\"Heart_Disease.csv\")"
   ]
  },
  {
   "attachments": {},
   "cell_type": "markdown",
   "metadata": {},
   "source": [
    "## Accessing Data"
   ]
  },
  {
   "cell_type": "code",
   "execution_count": null,
   "metadata": {},
   "outputs": [],
   "source": []
  },
  {
   "attachments": {},
   "cell_type": "markdown",
   "metadata": {},
   "source": [
    "## Adding Data to a Dataframe"
   ]
  },
  {
   "cell_type": "code",
   "execution_count": null,
   "metadata": {},
   "outputs": [],
   "source": []
  },
  {
   "attachments": {},
   "cell_type": "markdown",
   "metadata": {},
   "source": [
    "## Removing Data from a Dataframe"
   ]
  },
  {
   "cell_type": "code",
   "execution_count": null,
   "metadata": {},
   "outputs": [],
   "source": []
  },
  {
   "attachments": {},
   "cell_type": "markdown",
   "metadata": {},
   "source": [
    "## Looping through a Dataframe"
   ]
  },
  {
   "cell_type": "code",
   "execution_count": null,
   "metadata": {},
   "outputs": [],
   "source": []
  },
  {
   "attachments": {},
   "cell_type": "markdown",
   "metadata": {},
   "source": [
    "## Saving a Dataframe as a File"
   ]
  },
  {
   "cell_type": "code",
   "execution_count": null,
   "metadata": {},
   "outputs": [],
   "source": []
  }
 ],
 "metadata": {
  "language_info": {
   "name": "python"
  },
  "orig_nbformat": 4
 },
 "nbformat": 4,
 "nbformat_minor": 2
}
